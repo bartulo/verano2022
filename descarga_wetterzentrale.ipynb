{
 "cells": [
  {
   "cell_type": "code",
   "execution_count": null,
   "id": "0c86bf6e-c6ba-44e6-aaa1-158aecbd8303",
   "metadata": {
    "tags": []
   },
   "outputs": [],
   "source": [
    "import datetime\n",
    "import requests\n",
    "\n",
    "inicio = datetime.datetime.strptime('2022-06-01', '%Y-%m-%d')\n",
    "\n",
    "year = 2022\n",
    "for i in range(154):\n",
    "    for k in ['00', '06', '12', '18']:\n",
    "        fecha = inicio + datetime.timedelta(days=i)\n",
    "        f = datetime.datetime.strftime(fecha, '%Y%m%d')\n",
    "        display(f)\n",
    "        url = 'https://www.wetterzentrale.de/maps/archive/{}/cfsr/CFSR_1_{}{}_2.png'.format( year, f, k )\n",
    "        r = requests.get(url)\n",
    "        with open('./WETTERZENTRALE/isohipsas_850_{}_{}.png'.format( f, k ), 'wb') as f:\n",
    "            f.write(r.content)"
   ]
  }
 ],
 "metadata": {
  "kernelspec": {
   "display_name": "Python 3",
   "language": "python",
   "name": "python3"
  },
  "language_info": {
   "codemirror_mode": {
    "name": "ipython",
    "version": 3
   },
   "file_extension": ".py",
   "mimetype": "text/x-python",
   "name": "python",
   "nbconvert_exporter": "python",
   "pygments_lexer": "ipython3",
   "version": "3.10.2"
  }
 },
 "nbformat": 4,
 "nbformat_minor": 5
}
