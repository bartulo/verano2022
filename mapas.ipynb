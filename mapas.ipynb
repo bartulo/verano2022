{
 "cells": [
  {
   "cell_type": "code",
   "execution_count": null,
   "id": "6a38186b-c273-4ffa-85c2-4c5d4549af81",
   "metadata": {
    "tags": []
   },
   "outputs": [],
   "source": [
    "import matplotlib.pyplot as plt\n",
    "import cartopy.crs as ccrs\n",
    "import geopandas as gpd\n",
    "import datetime\n",
    "\n",
    "effis = gpd.read_file('BRUTOS/EFFIS/modis.ba.poly.shp')\n",
    "effis = effis[effis.COUNTRY == 'ES']\n",
    "effis['year'] = effis.apply(lambda x: x.FIREDATE.split('-')[0], axis=1)\n",
    "effis = effis[effis.year == '2022']\n",
    "effis['SUP'] = effis.apply(lambda x: int(x.AREA_HA), axis=1)\n",
    "gif = effis[effis.SUP > 500]\n",
    "gif['fecha'] = gif.apply(lambda x: x.FIREDATE.split(' ')[0], axis=1)\n",
    "gif['f'] = gif.apply(lambda x: datetime.datetime.strptime(x.fecha, '%Y-%m-%d'), axis=1)\n",
    "gif['fecha_fin'] = gif.apply(lambda x: x.LASTUPDATE.split(' ')[0], axis=1)\n",
    "gif['fecha_fin'] = gif.apply(lambda x: datetime.datetime.strptime(x.fecha_fin, '%Y-%m-%d'), axis=1)\n",
    "gif = gif[gif.f >= datetime.datetime.strptime('2022-06-01', '%Y-%m-%d')]\n",
    "display(gif)"
   ]
  },
  {
   "cell_type": "code",
   "execution_count": null,
   "id": "568cc939-2817-49aa-8de2-a5b465d11952",
   "metadata": {
    "tags": []
   },
   "outputs": [],
   "source": [
    "comunidades = gpd.read_file('../navarra/BRUTOS/COMUNIDADES/SHP_ETRS89/recintos_autonomicas_inspire_peninbal_etrs89/recintos_autonomicas_inspire_peninbal_etrs89.shp')"
   ]
  },
  {
   "cell_type": "code",
   "execution_count": null,
   "id": "2f4a932a-484b-44a4-b35e-9060819ffef1",
   "metadata": {
    "tags": []
   },
   "outputs": [],
   "source": [
    "inicio = datetime.datetime.strptime('2022-06-01', '%Y-%m-%d')\n",
    "for i in range(154):\n",
    "    fecha = inicio + datetime.timedelta(days=i)\n",
    "    inc = gif[gif.f <= fecha]\n",
    "\n",
    "    figure = plt.figure(figsize=(14,10))\n",
    "    proj = ccrs.PlateCarree()\n",
    "    ax = plt.subplot(projection=proj)\n",
    "\n",
    "    minx, miny, maxx, maxy = comunidades.total_bounds\n",
    "    ax.set_extent([minx, maxx, miny, maxy], crs=proj)\n",
    "    comunidades.plot(ax=ax, edgecolor='black', facecolor=(0,0,1,0))\n",
    "    for j, row in inc.iterrows():\n",
    "        if row.fecha_fin >= fecha:\n",
    "            ax.add_geometries([row.geometry], facecolor=(1,0,0,1), crs=proj)\n",
    "            ax.plot(row.geometry.centroid.x, row.geometry.centroid.y, 'r', marker='.', markersize=50)\n",
    "        else:\n",
    "            ax.add_geometries([row.geometry], facecolor=(0,0,0,1), crs=proj)\n",
    "    plt.savefig('MAPAS/mapa_{}.png'.format(fecha.strftime('%Y%m%d')), bbox_inches='tight')"
   ]
  }
 ],
 "metadata": {
  "kernelspec": {
   "display_name": "Python 3",
   "language": "python",
   "name": "python3"
  },
  "language_info": {
   "codemirror_mode": {
    "name": "ipython",
    "version": 3
   },
   "file_extension": ".py",
   "mimetype": "text/x-python",
   "name": "python",
   "nbconvert_exporter": "python",
   "pygments_lexer": "ipython3",
   "version": "3.10.2"
  }
 },
 "nbformat": 4,
 "nbformat_minor": 5
}
