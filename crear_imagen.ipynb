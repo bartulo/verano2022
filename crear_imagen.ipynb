{
 "cells": [
  {
   "cell_type": "code",
   "execution_count": null,
   "id": "d78733ed-adff-452a-a26a-0131e7666c64",
   "metadata": {
    "tags": []
   },
   "outputs": [],
   "source": [
    "from PIL import Image, ImageDraw, ImageFont\n",
    "import geopandas as gpd\n",
    "import datetime\n",
    "\n",
    "effis = gpd.read_file('BRUTOS/EFFIS/modis.ba.poly.shp')\n",
    "effis = effis[effis.COUNTRY == 'ES']\n",
    "effis['year'] = effis.apply(lambda x: x.FIREDATE.split('-')[0], axis=1)\n",
    "effis = effis[effis.year == '2022']\n",
    "effis['SUP'] = effis.apply(lambda x: int(x.AREA_HA), axis=1)\n",
    "gif = effis[effis.SUP > 500]\n",
    "gif['fecha'] = gif.apply(lambda x: x.FIREDATE.split(' ')[0], axis=1)\n",
    "gif['f'] = gif.apply(lambda x: datetime.datetime.strptime(x.fecha, '%Y-%m-%d'), axis=1)\n",
    "gif['fecha_fin'] = gif.apply(lambda x: x.LASTUPDATE.split(' ')[0], axis=1)\n",
    "gif['fecha_fin'] = gif.apply(lambda x: datetime.datetime.strptime(x.fecha_fin, '%Y-%m-%d'), axis=1)\n",
    "display(gif)"
   ]
  },
  {
   "cell_type": "code",
   "execution_count": null,
   "id": "51ad4201-c667-42f1-b0a0-c043e5845ca0",
   "metadata": {
    "tags": []
   },
   "outputs": [],
   "source": [
    "inicio = datetime.datetime.strptime('2022-06-01', '%Y-%m-%d')\n",
    "meses = ['enero', 'febrero', 'marzo', 'abril', 'mayo', 'junio', 'julio', 'agosto', 'septiembre', 'octubre', 'noviembre', 'diciembre']\n",
    "\n",
    "for i in range(152):\n",
    "    for k in ['00', '06', '12', '18']:\n",
    "        fecha = inicio + datetime.timedelta(days=i)\n",
    "        dia = int(fecha.strftime('%d'))\n",
    "        mes = int(fecha.strftime('%m'))\n",
    "        path = 'FINALES/isohipsas_850_{}_{}.png'.format(datetime.datetime.strftime(fecha, '%Y%m%d'), k)\n",
    "        path_mapa = 'MAPAS/mapa_{}.png'.format(datetime.datetime.strftime(fecha, '%Y%m%d'))\n",
    "        img = Image.new('RGB', (1920, 1080), color = 'white')\n",
    "        wetter = Image.open(path)\n",
    "        mapa = Image.open(path_mapa)\n",
    "\n",
    "        fnt = ImageFont.truetype('/usr/share/fonts/truetype/freefont/FreeSerif.ttf', size=60)\n",
    "        fnt2 = ImageFont.truetype('/usr/share/fonts/truetype/freefont/FreeSerif.ttf', size=26)\n",
    "        fnt3 = ImageFont.truetype('/usr/share/fonts/truetype/freefont/FreeSerif.ttf', size=35)\n",
    "        d = ImageDraw.Draw(img)\n",
    "        d.text((350,50), \"{} de {}\".format(dia, meses[mes - 1]), font=fnt, fill=(0,0,0))\n",
    "        d.text((1250,10), \"GIFs activos\", font=fnt, fill=(0,0,0))\n",
    "        d.text((100,960), \"Número GIFs temporada\", font=fnt3, fill=(0,0,0))\n",
    "        d.text((100,1000), \"GIFs activos\", font=fnt3, fill=(0,0,0))\n",
    "        img.paste(wetter, (30, 150))\n",
    "        img.paste(mapa, (1170, 500))\n",
    "\n",
    "        a = gif[(gif.f <= fecha) & (gif.fecha_fin >= fecha)].sort_values(['f', 'COMMUNE'])\n",
    "        incendios_temporada = gif[(gif.f >= inicio) & (gif.f <= fecha)]\n",
    "        if len(a) > 0:\n",
    "            contador = 0\n",
    "            for j, incendios in a.iterrows():\n",
    "                offset = 80 + 32 * contador\n",
    "                if int(incendios.SUP) > 1000:\n",
    "                    color = 'red'\n",
    "                else:\n",
    "                    color = 'black'\n",
    "                d.text((1050, offset), \"{} ({}) - {} ha\".format(incendios.COMMUNE, incendios.PROVINCE, incendios.AREA_HA), fill=color, font=fnt2)\n",
    "                contador += 1\n",
    "        d.text((600,960), f\"{len(incendios_temporada)}\", font=fnt3, fill=(0,0,0))\n",
    "        d.text((600,1000), f\"{len(a)}\", font=fnt3, fill=(0,0,0))\n",
    "        img.save('FINALES/prueba_{}_{}.png'.format(datetime.datetime.strftime(fecha, '%Y%m%d'), k))\n",
    "        img.close()"
   ]
  }
 ],
 "metadata": {
  "kernelspec": {
   "display_name": "Python 3",
   "language": "python",
   "name": "python3"
  },
  "language_info": {
   "codemirror_mode": {
    "name": "ipython",
    "version": 3
   },
   "file_extension": ".py",
   "mimetype": "text/x-python",
   "name": "python",
   "nbconvert_exporter": "python",
   "pygments_lexer": "ipython3",
   "version": "3.10.2"
  }
 },
 "nbformat": 4,
 "nbformat_minor": 5
}
